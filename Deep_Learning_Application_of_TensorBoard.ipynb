{
  "nbformat": 4,
  "nbformat_minor": 0,
  "metadata": {
    "colab": {
      "name": "CNN with TensorBoard ",
      "provenance": [],
      "toc_visible": true,
      "mount_file_id": "1JAOF__YoOxU509Ba5mZxkIyda3HvkPFk",
      "authorship_tag": "ABX9TyMY/g19WH3ss6VxECC8Vhxa",
      "include_colab_link": true
    },
    "kernelspec": {
      "name": "python3",
      "display_name": "Python 3"
    }
  },
  "cells": [
    {
      "cell_type": "markdown",
      "metadata": {
        "id": "view-in-github",
        "colab_type": "text"
      },
      "source": [
        "<a href=\"https://colab.research.google.com/github/shivtejshete/hello-world/blob/master/Deep_Learning_Application_of_TensorBoard.ipynb\" target=\"_parent\"><img src=\"https://colab.research.google.com/assets/colab-badge.svg\" alt=\"Open In Colab\"/></a>"
      ]
    },
    {
      "cell_type": "code",
      "metadata": {
        "id": "9tDl8hpX53De",
        "colab_type": "code",
        "colab": {}
      },
      "source": [
        "#Importing the necessary libraries\n",
        "import tensorflow as tf\n",
        "import keras\n",
        "import tensorflow.keras.datasets.fashion_mnist as data\n",
        "import numpy as np\n",
        "from time import time \n"
      ],
      "execution_count": 1,
      "outputs": []
    },
    {
      "cell_type": "code",
      "metadata": {
        "id": "0LxcPk0c6N1B",
        "colab_type": "code",
        "colab": {}
      },
      "source": [
        "raw_data = data"
      ],
      "execution_count": 4,
      "outputs": []
    },
    {
      "cell_type": "code",
      "metadata": {
        "id": "UARLkH9C7Ry2",
        "colab_type": "code",
        "colab": {
          "base_uri": "https://localhost:8080/",
          "height": 151
        },
        "outputId": "27494777-e87f-4db5-8c79-8cfc439d59a4"
      },
      "source": [
        "(train_image, train_label), (test_image, test_label) =  raw_data.load_data()"
      ],
      "execution_count": 5,
      "outputs": [
        {
          "output_type": "stream",
          "text": [
            "Downloading data from https://storage.googleapis.com/tensorflow/tf-keras-datasets/train-labels-idx1-ubyte.gz\n",
            "32768/29515 [=================================] - 0s 0us/step\n",
            "Downloading data from https://storage.googleapis.com/tensorflow/tf-keras-datasets/train-images-idx3-ubyte.gz\n",
            "26427392/26421880 [==============================] - 0s 0us/step\n",
            "Downloading data from https://storage.googleapis.com/tensorflow/tf-keras-datasets/t10k-labels-idx1-ubyte.gz\n",
            "8192/5148 [===============================================] - 0s 0us/step\n",
            "Downloading data from https://storage.googleapis.com/tensorflow/tf-keras-datasets/t10k-images-idx3-ubyte.gz\n",
            "4423680/4422102 [==============================] - 0s 0us/step\n"
          ],
          "name": "stdout"
        }
      ]
    },
    {
      "cell_type": "code",
      "metadata": {
        "id": "4wUu9NvL6N4F",
        "colab_type": "code",
        "colab": {
          "base_uri": "https://localhost:8080/",
          "height": 34
        },
        "outputId": "130e5443-d170-4e8f-d603-a7d7b1a39390"
      },
      "source": [
        "train_image.shape"
      ],
      "execution_count": 8,
      "outputs": [
        {
          "output_type": "execute_result",
          "data": {
            "text/plain": [
              "(60000, 28, 28)"
            ]
          },
          "metadata": {
            "tags": []
          },
          "execution_count": 8
        }
      ]
    },
    {
      "cell_type": "code",
      "metadata": {
        "id": "Pkq0NS8T76Bj",
        "colab_type": "code",
        "colab": {}
      },
      "source": [
        "train_image = train_image/255.0  #Normalization\n",
        "test_image = test_image/255.0"
      ],
      "execution_count": 14,
      "outputs": []
    },
    {
      "cell_type": "code",
      "metadata": {
        "id": "7gmIKXgJ8VBV",
        "colab_type": "code",
        "colab": {
          "base_uri": "https://localhost:8080/",
          "height": 729
        },
        "outputId": "efe27c7b-f768-4900-bb0a-5b7659b7f379"
      },
      "source": [
        "import matplotlib.pyplot as plt\n",
        "fig, ax= plt.subplots(3,3, figsize=(10,10) )\n",
        "\n",
        "for i,img in enumerate(ax.flatten()):\n",
        "  img.pcolor(train_image[i])\n",
        "  img.set_title(train_label[i])\n",
        "\n",
        "plt.tight_layout()\n",
        "# for img , axis in \n",
        "# plt.imshow(train_image[0])\n",
        "# plt.show()\n",
        "\n",
        "\n",
        "\n",
        "# plt.imshow(data, interpolation='nearest')\n",
        "# plt.show()"
      ],
      "execution_count": 55,
      "outputs": [
        {
          "output_type": "display_data",
          "data": {
            "image/png": "[encoded data removed]",
            "text/plain": [
              "<Figure size 720x720 with 9 Axes>"
            ]
          },
          "metadata": {
            "tags": [],
            "needs_background": "light"
          }
        }
      ]
    },
    {
      "cell_type": "code",
      "metadata": {
        "id": "h9ZQORypA71i",
        "colab_type": "code",
        "colab": {}
      },
      "source": [
        "model = keras.Sequential()\n",
        "model.add(keras.layers.Flatten())\n",
        "model.add(keras.layers.Dense(256, activation= 'relu', use_bias= True))\n",
        "model.add(keras.layers.Dropout(rate= .2))\n",
        "model.add(keras.layers.Dense(64, activation='relu', use_bias=True))\n",
        "model.add(keras.layers.Dropout(rate= .2))\n",
        "model.add(keras.layers.Dense(10, activation='softmax' ))"
      ],
      "execution_count": 193,
      "outputs": []
    },
    {
      "cell_type": "code",
      "metadata": {
        "id": "K_G6IIPHkvCV",
        "colab_type": "code",
        "colab": {
          "base_uri": "https://localhost:8080/",
          "height": 104
        },
        "outputId": "37be7a8d-eb88-4886-a89c-93d7fa621e3d"
      },
      "source": [
        "#creating a tensorboard object to be called while training the model\n",
        "tensorboard = keras.callbacks.TensorBoard(log_dir='/content/drive/My Drive/CNN/logs', histogram_freq=1, batch_size=1000, write_grads=True, write_images=True )"
      ],
      "execution_count": 195,
      "outputs": [
        {
          "output_type": "stream",
          "text": [
            "/usr/local/lib/python3.6/dist-packages/keras/callbacks/tensorboard_v2.py:92: UserWarning: The TensorBoard callback `batch_size` argument (for histogram computation) is deprecated with TensorFlow 2.0. It will be ignored.\n",
            "  warnings.warn('The TensorBoard callback `batch_size` argument '\n",
            "/usr/local/lib/python3.6/dist-packages/keras/callbacks/tensorboard_v2.py:97: UserWarning: The TensorBoard callback does not support gradients display when using TensorFlow 2.0. The `write_grads` argument is ignored.\n",
            "  warnings.warn('The TensorBoard callback does not support '\n"
          ],
          "name": "stderr"
        }
      ]
    },
    {
      "cell_type": "code",
      "metadata": {
        "id": "3erp9reBVdu0",
        "colab_type": "code",
        "colab": {}
      },
      "source": [
        "# %reload_ext tensorboard\n",
        "# !rm -rf  '/content/drive/My Drive/CNN/logs' #to delete previous runs\n",
        "# %tensorboard --logdir ='/content/drive/My Drive/CNN/logs'\n",
        "# tensorboard = keras.callbacks.TensorBoard(log_dir='/content/drive/My Drive/CNN/logs')"
      ],
      "execution_count": 186,
      "outputs": []
    },
    {
      "cell_type": "code",
      "metadata": {
        "id": "m5jVwnldEJd2",
        "colab_type": "code",
        "colab": {}
      },
      "source": [
        "model.compile(optimizer='adam', loss = 'sparse_categorical_crossentropy', metrics= ['accuracy'])"
      ],
      "execution_count": 194,
      "outputs": []
    },
    {
      "cell_type": "code",
      "metadata": {
        "id": "MLD5IEyREnO3",
        "colab_type": "code",
        "colab": {
          "base_uri": "https://localhost:8080/",
          "height": 857
        },
        "outputId": "685dcd26-ba3c-4a00-80f6-dcb46bac30e3"
      },
      "source": [
        "model.fit(train_image, train_label, batch_size=1000, epochs = 24, validation_data=(test_image, test_label), callbacks=[tensorboard] )"
      ],
      "execution_count": 196,
      "outputs": [
        {
          "output_type": "stream",
          "text": [
            "Train on 60000 samples, validate on 10000 samples\n",
            "Epoch 1/24\n",
            "60000/60000 [==============================] - 2s 37us/step - loss: 0.8993 - accuracy: 0.6824 - val_loss: 0.5451 - val_accuracy: 0.8151\n",
            "Epoch 2/24\n",
            "60000/60000 [==============================] - 2s 27us/step - loss: 0.5324 - accuracy: 0.8156 - val_loss: 0.4557 - val_accuracy: 0.8432\n",
            "Epoch 3/24\n",
            "60000/60000 [==============================] - 2s 26us/step - loss: 0.4532 - accuracy: 0.8406 - val_loss: 0.4259 - val_accuracy: 0.8447\n",
            "Epoch 4/24\n",
            "60000/60000 [==============================] - 2s 28us/step - loss: 0.4132 - accuracy: 0.8542 - val_loss: 0.3961 - val_accuracy: 0.8590\n",
            "Epoch 5/24\n",
            "60000/60000 [==============================] - 2s 28us/step - loss: 0.3872 - accuracy: 0.8636 - val_loss: 0.3810 - val_accuracy: 0.8628\n",
            "Epoch 6/24\n",
            "60000/60000 [==============================] - 2s 27us/step - loss: 0.3673 - accuracy: 0.8701 - val_loss: 0.3669 - val_accuracy: 0.8680\n",
            "Epoch 7/24\n",
            "60000/60000 [==============================] - 2s 28us/step - loss: 0.3517 - accuracy: 0.8750 - val_loss: 0.3575 - val_accuracy: 0.8681\n",
            "Epoch 8/24\n",
            "60000/60000 [==============================] - 2s 27us/step - loss: 0.3392 - accuracy: 0.8778 - val_loss: 0.3513 - val_accuracy: 0.8729\n",
            "Epoch 9/24\n",
            "60000/60000 [==============================] - 2s 26us/step - loss: 0.3301 - accuracy: 0.8800 - val_loss: 0.3450 - val_accuracy: 0.8747\n",
            "Epoch 10/24\n",
            "60000/60000 [==============================] - 2s 27us/step - loss: 0.3190 - accuracy: 0.8842 - val_loss: 0.3410 - val_accuracy: 0.8765\n",
            "Epoch 11/24\n",
            "60000/60000 [==============================] - 2s 26us/step - loss: 0.3123 - accuracy: 0.8869 - val_loss: 0.3368 - val_accuracy: 0.8775\n",
            "Epoch 12/24\n",
            "60000/60000 [==============================] - 2s 27us/step - loss: 0.3043 - accuracy: 0.8896 - val_loss: 0.3425 - val_accuracy: 0.8769\n",
            "Epoch 13/24\n",
            "60000/60000 [==============================] - 2s 27us/step - loss: 0.2983 - accuracy: 0.8914 - val_loss: 0.3262 - val_accuracy: 0.8835\n",
            "Epoch 14/24\n",
            "60000/60000 [==============================] - 2s 27us/step - loss: 0.2939 - accuracy: 0.8934 - val_loss: 0.3279 - val_accuracy: 0.8811\n",
            "Epoch 15/24\n",
            "60000/60000 [==============================] - 2s 28us/step - loss: 0.2864 - accuracy: 0.8959 - val_loss: 0.3195 - val_accuracy: 0.8841\n",
            "Epoch 16/24\n",
            "60000/60000 [==============================] - 2s 27us/step - loss: 0.2774 - accuracy: 0.8983 - val_loss: 0.3211 - val_accuracy: 0.8818\n",
            "Epoch 17/24\n",
            "60000/60000 [==============================] - 2s 26us/step - loss: 0.2751 - accuracy: 0.9001 - val_loss: 0.3280 - val_accuracy: 0.8816\n",
            "Epoch 18/24\n",
            "60000/60000 [==============================] - 2s 27us/step - loss: 0.2687 - accuracy: 0.9020 - val_loss: 0.3195 - val_accuracy: 0.8856\n",
            "Epoch 19/24\n",
            "60000/60000 [==============================] - 2s 27us/step - loss: 0.2663 - accuracy: 0.9020 - val_loss: 0.3277 - val_accuracy: 0.8799\n",
            "Epoch 20/24\n",
            "60000/60000 [==============================] - 2s 27us/step - loss: 0.2593 - accuracy: 0.9040 - val_loss: 0.3197 - val_accuracy: 0.8858\n",
            "Epoch 21/24\n",
            "60000/60000 [==============================] - 2s 27us/step - loss: 0.2552 - accuracy: 0.9062 - val_loss: 0.3189 - val_accuracy: 0.8855\n",
            "Epoch 22/24\n",
            "60000/60000 [==============================] - 2s 27us/step - loss: 0.2515 - accuracy: 0.9073 - val_loss: 0.3191 - val_accuracy: 0.8870\n",
            "Epoch 23/24\n",
            "60000/60000 [==============================] - 2s 27us/step - loss: 0.2473 - accuracy: 0.9101 - val_loss: 0.3091 - val_accuracy: 0.8893\n",
            "Epoch 24/24\n",
            "60000/60000 [==============================] - 2s 27us/step - loss: 0.2403 - accuracy: 0.9111 - val_loss: 0.3104 - val_accuracy: 0.8908\n"
          ],
          "name": "stdout"
        },
        {
          "output_type": "execute_result",
          "data": {
            "text/plain": [
              "<keras.callbacks.callbacks.History at 0x7f71d3b03588>"
            ]
          },
          "metadata": {
            "tags": []
          },
          "execution_count": 196
        }
      ]
    },
    {
      "cell_type": "code",
      "metadata": {
        "id": "VKPfD0g8lBQ7",
        "colab_type": "code",
        "colab": {
          "base_uri": "https://localhost:8080/",
          "height": 205
        },
        "outputId": "a1c7ad01-444b-4440-ae5b-a54831bfbbce"
      },
      "source": [
        "%reload_ext tensorboard\n",
        "!tensorboard dev upload --logdir '/content/drive/My Drive/CNN/logs' --name \"Deep Learning : Tensorboard\" --description \"Modeling a very simple Image Classifier based on Fashion MNIST dataset \" "
      ],
      "execution_count": 197,
      "outputs": [
        {
          "output_type": "stream",
          "text": [
            "2020-07-25 10:53:53.870508: I tensorflow/stream_executor/platform/default/dso_loader.cc:44] Successfully opened dynamic library libcudart.so.10.1\n",
            "Data for the \"graphs\" plugin is now uploaded to TensorBoard.dev! Note that uploaded data is public. If you do not want to upload data for this plugin, use the \"--plugins\" command line argument.\n",
            "Data for the \"histograms\" plugin is now uploaded to TensorBoard.dev! Note that uploaded data is public. If you do not want to upload data for this plugin, use the \"--plugins\" command line argument.\n",
            "Upload started and will continue reading any new data as it's added\n",
            "to the logdir. To stop uploading, press Ctrl-C.\n",
            "View your TensorBoard live at: https://tensorboard.dev/experiment/u6hGU2LaQqKn1b1udgL1RA/\n",
            "\n",
            "exit\n",
            "\n",
            "Upload stopped. View your TensorBoard at https://tensorboard.dev/experiment/u6hGU2LaQqKn1b1udgL1RA/\n"
          ],
          "name": "stdout"
        }
      ]
    },
    {
      "cell_type": "code",
      "metadata": {
        "id": "pD-KxRaTNrX5",
        "colab_type": "code",
        "colab": {
          "base_uri": "https://localhost:8080/",
          "height": 353
        },
        "outputId": "90975131-2e24-4813-8f95-5be03b6948a2"
      },
      "source": [
        "model.summary()"
      ],
      "execution_count": 198,
      "outputs": [
        {
          "output_type": "stream",
          "text": [
            "Model: \"sequential_9\"\n",
            "_________________________________________________________________\n",
            "Layer (type)                 Output Shape              Param #   \n",
            "=================================================================\n",
            "flatten_8 (Flatten)          (None, 784)               0         \n",
            "_________________________________________________________________\n",
            "dense_20 (Dense)             (None, 256)               200960    \n",
            "_________________________________________________________________\n",
            "dropout_7 (Dropout)          (None, 256)               0         \n",
            "_________________________________________________________________\n",
            "dense_21 (Dense)             (None, 64)                16448     \n",
            "_________________________________________________________________\n",
            "dropout_8 (Dropout)          (None, 64)                0         \n",
            "_________________________________________________________________\n",
            "dense_22 (Dense)             (None, 10)                650       \n",
            "=================================================================\n",
            "Total params: 218,058\n",
            "Trainable params: 218,058\n",
            "Non-trainable params: 0\n",
            "_________________________________________________________________\n"
          ],
          "name": "stdout"
        }
      ]
    },
    {
      "cell_type": "code",
      "metadata": {
        "id": "UtwpaquvGcyv",
        "colab_type": "code",
        "colab": {
          "base_uri": "https://localhost:8080/",
          "height": 67
        },
        "outputId": "7d46d9ff-ee83-4264-f4c1-c6b3d4110d08"
      },
      "source": [
        "model.predict(test_image[6].reshape(1,28,28))"
      ],
      "execution_count": 199,
      "outputs": [
        {
          "output_type": "execute_result",
          "data": {
            "text/plain": [
              "array([[1.4427524e-06, 1.3813626e-07, 9.4744028e-04, 6.1016767e-06,\n",
              "        9.9476236e-01, 7.6863799e-10, 4.2824424e-03, 5.9244015e-10,\n",
              "        1.0315110e-07, 7.1654088e-10]], dtype=float32)"
            ]
          },
          "metadata": {
            "tags": []
          },
          "execution_count": 199
        }
      ]
    },
    {
      "cell_type": "code",
      "metadata": {
        "id": "Wv5Vkt5YG3Ol",
        "colab_type": "code",
        "colab": {
          "base_uri": "https://localhost:8080/",
          "height": 34
        },
        "outputId": "bb9ae74e-4e87-420e-a53b-144ee36b6edc"
      },
      "source": [
        "test_label[6]"
      ],
      "execution_count": 200,
      "outputs": [
        {
          "output_type": "execute_result",
          "data": {
            "text/plain": [
              "4"
            ]
          },
          "metadata": {
            "tags": []
          },
          "execution_count": 200
        }
      ]
    },
    {
      "cell_type": "code",
      "metadata": {
        "id": "h7-wJcm6RNgv",
        "colab_type": "code",
        "colab": {}
      },
      "source": [
        "#operating on Single Image for prediction of its class"
      ],
      "execution_count": null,
      "outputs": []
    },
    {
      "cell_type": "code",
      "metadata": {
        "id": "3Xw7iK8bJx9E",
        "colab_type": "code",
        "colab": {}
      },
      "source": [
        "from keras.preprocessing import image"
      ],
      "execution_count": 82,
      "outputs": []
    },
    {
      "cell_type": "code",
      "metadata": {
        "id": "QGWOMFOZJQaW",
        "colab_type": "code",
        "colab": {}
      },
      "source": [
        "shoe = image.load_img('/content/drive/My Drive/tshirt.jpg', color_mode ='grayscale', target_size=(28,28) )"
      ],
      "execution_count": 149,
      "outputs": []
    },
    {
      "cell_type": "code",
      "metadata": {
        "id": "VGFSoyKzH2ED",
        "colab_type": "code",
        "colab": {}
      },
      "source": [
        "shoe = image.img_to_array(shoe)"
      ],
      "execution_count": 150,
      "outputs": []
    },
    {
      "cell_type": "code",
      "metadata": {
        "id": "RXxrIMB7LNzv",
        "colab_type": "code",
        "colab": {}
      },
      "source": [
        "shoe=shoe.reshape(28,28)"
      ],
      "execution_count": 151,
      "outputs": []
    },
    {
      "cell_type": "code",
      "metadata": {
        "id": "emwOma2bLc01",
        "colab_type": "code",
        "colab": {}
      },
      "source": [
        "shoe = np.expand_dims(shoe, axis= 0)"
      ],
      "execution_count": 152,
      "outputs": []
    },
    {
      "cell_type": "code",
      "metadata": {
        "id": "IVH3WP8KLriq",
        "colab_type": "code",
        "colab": {
          "base_uri": "https://localhost:8080/",
          "height": 34
        },
        "outputId": "a9eefae6-199b-4b69-8c3f-18bfa4634b94"
      },
      "source": [
        "model.predict(shoe)"
      ],
      "execution_count": 153,
      "outputs": [
        {
          "output_type": "execute_result",
          "data": {
            "text/plain": [
              "array([[0., 0., 0., 0., 0., 0., 0., 0., 1., 0.]], dtype=float32)"
            ]
          },
          "metadata": {
            "tags": []
          },
          "execution_count": 153
        }
      ]
    },
    {
      "cell_type": "code",
      "metadata": {
        "id": "FjTFj4NUMakp",
        "colab_type": "code",
        "colab": {
          "base_uri": "https://localhost:8080/",
          "height": 282
        },
        "outputId": "493dec6b-aeec-49f4-c009-a5f93f1b41e4"
      },
      "source": [
        "plt.imshow(shoe.reshape(28,28))"
      ],
      "execution_count": 154,
      "outputs": [
        {
          "output_type": "execute_result",
          "data": {
            "text/plain": [
              "<matplotlib.image.AxesImage at 0x7f71d4224a58>"
            ]
          },
          "metadata": {
            "tags": []
          },
          "execution_count": 154
        },
        {
          "output_type": "display_data",
          "data": {
            "image/png": "[encoded data removed]",
            "text/plain": [
              "<Figure size 432x288 with 1 Axes>"
            ]
          },
          "metadata": {
            "tags": [],
            "needs_background": "light"
          }
        }
      ]
    },
    {
      "cell_type": "code",
      "metadata": {
        "id": "q6mY_nJ6Pu64",
        "colab_type": "code",
        "colab": {
          "base_uri": "https://localhost:8080/",
          "height": 332
        },
        "outputId": "39476910-5e90-472a-939e-4e45bc0ba662"
      },
      "source": [
        "plt.hist(train_label, bins=10)"
      ],
      "execution_count": 148,
      "outputs": [
        {
          "output_type": "execute_result",
          "data": {
            "text/plain": [
              "(array([6000., 6000., 6000., 6000., 6000., 6000., 6000., 6000., 6000.,\n",
              "        6000.]),\n",
              " array([0. , 0.9, 1.8, 2.7, 3.6, 4.5, 5.4, 6.3, 7.2, 8.1, 9. ]),\n",
              " <a list of 10 Patch objects>)"
            ]
          },
          "metadata": {
            "tags": []
          },
          "execution_count": 148
        },
        {
          "output_type": "display_data",
          "data": {
            "image/png": "[encoded data removed]",
            "text/plain": [
              "<Figure size 432x288 with 1 Axes>"
            ]
          },
          "metadata": {
            "tags": [],
            "needs_background": "light"
          }
        }
      ]
    },
    {
      "cell_type": "code",
      "metadata": {
        "id": "6wWu2XVORiPt",
        "colab_type": "code",
        "colab": {}
      },
      "source": [
        ""
      ],
      "execution_count": null,
      "outputs": []
    }
  ]
}